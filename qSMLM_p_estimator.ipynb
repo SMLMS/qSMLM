{
 "cells": [
  {
   "cell_type": "markdown",
   "metadata": {},
   "source": [
    "# qSMLM\n",
    "a tool for modeling single molecule localization microscopy blinking kinetics\n",
    "\n",
    "## p-Estimator\n",
    "estimate the blinking rate: p\n",
    "\n",
    "by\n",
    "\n",
    "Sebastian Malkusch\n",
    "\n",
    "2018-06-29\n",
    "\n",
    "single molecule biophysics,\n",
    "Goethe-University Frankfurt, Germany\n",
    "\n",
    "malkusch@chemie.uni-frankfurt.de\n",
    "\n",
    "www.smb.uni-frankfurt.de\n",
    "\n",
    "http://share.smb.uni-frankfurt.de"
   ]
  },
  {
   "cell_type": "markdown",
   "metadata": {},
   "source": [
    "### Create Modelling System"
   ]
  },
  {
   "cell_type": "code",
   "execution_count": 1,
   "metadata": {},
   "outputs": [
    {
     "name": "stdout",
     "output_type": "stream",
     "text": [
      "qsmlmWidgets initialized\n",
      "qsmlmPEstimator initialized\n",
      "qsmlmModel initialized\n",
      "qsmlmData initialized\n"
     ]
    }
   ],
   "source": [
    "from qSMLM.jupyter import qsmlmPEstimatorWidgets\n",
    "from qSMLM.preAnalysis import qsmlmPEstimator\n",
    "widgets = qsmlmPEstimatorWidgets.QsmlmPEstimatorWidgets()\n",
    "modeller = qsmlmPEstimator.QsmlmPEstimator()"
   ]
  },
  {
   "cell_type": "markdown",
   "metadata": {},
   "source": [
    "### Define qSMLM Blinking Statistic Data Set\n",
    "Set the path to your data location. Define the columns to be loaded. n := blinking events p0 := number of positive events.\n",
    "The data must comprise monomeric oligomers only. The histogram needs to exist of absolute event numbers (integer). Normalization is done by qSMLM."
   ]
  },
  {
   "cell_type": "code",
   "execution_count": 2,
   "metadata": {},
   "outputs": [
    {
     "data": {
      "application/vnd.jupyter.widget-view+json": {
       "model_id": "df9bd703db154b608a95757355030e8e",
       "version_major": 2,
       "version_minor": 0
      },
      "text/plain": [
       "Text(value='', description='path to file', placeholder='enter a string', style=DescriptionStyle(description_wi…"
      ]
     },
     "metadata": {},
     "output_type": "display_data"
    },
    {
     "data": {
      "application/vnd.jupyter.widget-view+json": {
       "model_id": "8e326a80f8ff4f72981096e230ff8e28",
       "version_major": 2,
       "version_minor": 0
      },
      "text/plain": [
       "Button(description='browse', icon='check', style=ButtonStyle(), tooltip='Click me')"
      ]
     },
     "metadata": {},
     "output_type": "display_data"
    },
    {
     "data": {
      "application/vnd.jupyter.widget-view+json": {
       "model_id": "e68c0aef344740b097f5784f8dfd47aa",
       "version_major": 2,
       "version_minor": 0
      },
      "text/plain": [
       "BoundedIntText(value=0, description='n', style=DescriptionStyle(description_width='initial'))"
      ]
     },
     "metadata": {},
     "output_type": "display_data"
    },
    {
     "data": {
      "application/vnd.jupyter.widget-view+json": {
       "model_id": "b37654cc35f4430ba9d22508dd101cd2",
       "version_major": 2,
       "version_minor": 0
      },
      "text/plain": [
       "BoundedIntText(value=1, description='p0', style=DescriptionStyle(description_width='initial'))"
      ]
     },
     "metadata": {},
     "output_type": "display_data"
    }
   ],
   "source": [
    "display(widgets.pathText, widgets.pathButton, widgets.nText, widgets.p0Text)"
   ]
  },
  {
   "cell_type": "markdown",
   "metadata": {},
   "source": [
    "### Set Initial Parameters\n",
    "Give an initial guess for the blinking efficiency (initP)."
   ]
  },
  {
   "cell_type": "code",
   "execution_count": 3,
   "metadata": {},
   "outputs": [
    {
     "data": {
      "application/vnd.jupyter.widget-view+json": {
       "model_id": "677b46a2858f487bb19aa4a7fb7bac98",
       "version_major": 2,
       "version_minor": 0
      },
      "text/plain": [
       "BoundedFloatText(value=0.3, description='initP', max=1.0, step=0.001, style=DescriptionStyle(description_width…"
      ]
     },
     "metadata": {},
     "output_type": "display_data"
    },
    {
     "data": {
      "application/vnd.jupyter.widget-view+json": {
       "model_id": "4106b81a218f4ff3acad3a7e493096dc",
       "version_major": 2,
       "version_minor": 0
      },
      "text/plain": [
       "FloatSlider(value=0.3, continuous_update=False, description='initP', max=1.0, readout_format='.3f', step=0.001…"
      ]
     },
     "metadata": {},
     "output_type": "display_data"
    }
   ],
   "source": [
    "display(widgets.initPText, widgets.initPSlider)"
   ]
  },
  {
   "cell_type": "markdown",
   "metadata": {},
   "source": [
    "### Data Modeling\n",
    "Model parameter estimation using a Trust Region Reflective algorithm  based least squares routine"
   ]
  },
  {
   "cell_type": "code",
   "execution_count": 4,
   "metadata": {},
   "outputs": [
    {
     "name": "stdout",
     "output_type": "stream",
     "text": [
      "loaded data from: /Users/malkusch/Documents/Biophysik/qSMLM/monomer/ssp_at_2019-01-15_09-37-34_histogram.txt\n",
      "\n",
      "Initialized model parameters:\n",
      "\n",
      "\n",
      "number of measurements: 1742.0\n",
      "\n",
      "\n",
      "number of states: 1\n",
      "\n",
      "\n",
      "state vector:\n",
      "[0]\n",
      "\n",
      "\n",
      "apparent weight vector:\n",
      "[1.0]\n",
      "\n",
      "\n",
      "corrected weight vector:\n",
      "[1.]\n",
      "\n",
      "\n",
      "d: 1.0\n",
      "\n",
      "\n",
      "p: 0.3\n",
      "\n",
      "\n",
      "\n",
      "\n",
      "Optimized model parameters:\n",
      "\n",
      "\n",
      "number of measurements: 1742.0\n",
      "\n",
      "\n",
      "number of states: 1\n",
      "\n",
      "\n",
      "state vector:\n",
      "[0]\n",
      "\n",
      "\n",
      "apparent weight vector:\n",
      "[1.0]\n",
      "\n",
      "\n",
      "corrected weight vector:\n",
      "[1.]\n",
      "\n",
      "\n",
      "d: 1.0\n",
      "\n",
      "\n",
      "p: 0.19850209993581058\n",
      "\n",
      "\n",
      "fitting results:\n",
      "errors:\n",
      "[1.6262894e-05]\n",
      "\n",
      "\n",
      "Optimized model statistics:\n",
      "number of observations:\t1742\n",
      "number of estimated parameters:\t1\n",
      "LogL:\t126.78433935\n",
      "BIC:\t-246.10588953\n",
      "AIC:\t-251.56867869\n",
      "AICc:\t-251.56637984\n"
     ]
    },
    {
     "data": {
      "image/png": "[encoded data removed]",
      "text/plain": [
       "<Figure size 432x288 with 1 Axes>"
      ]
     },
     "metadata": {},
     "output_type": "display_data"
    },
    {
     "data": {
      "image/png": "[encoded data removed]",
      "text/plain": [
       "<Figure size 432x288 with 1 Axes>"
      ]
     },
     "metadata": {},
     "output_type": "display_data"
    }
   ],
   "source": [
    "display(widgets.analysisButton)\n",
    "def runAnalysis(event):\n",
    "    widgets.clearOutput()\n",
    "    if widgets.fileName:\n",
    "        modeller.runAnalysis(n=widgets.nText.value,\n",
    "                             p0=widgets.p0Text.value,\n",
    "                             initP=widgets.initPText.value,\n",
    "                             fileName = widgets.fileName)\n",
    "\n",
    "widgets.analysisButton.on_click(runAnalysis)"
   ]
  },
  {
   "cell_type": "markdown",
   "metadata": {},
   "source": [
    "### Save Model\n",
    "Save results of modelig routine"
   ]
  },
  {
   "cell_type": "code",
   "execution_count": 5,
   "metadata": {},
   "outputs": [
    {
     "name": "stdout",
     "output_type": "stream",
     "text": [
      "\n",
      "Modeling statistics written to 2019-01-15-ssp_at_2019-01-15_09-37-34_histogram_p-estimation_ls_model.txt\n",
      "\n",
      "LS-based modeling results written to 2019-01-15-ssp_at_2019-01-15_09-37-34_histogram_p-estimation_ls_fit.txt\n"
     ]
    }
   ],
   "source": [
    "display(widgets.saveButton)\n",
    "def saveAnalysis(event):\n",
    "    widgets.clearOutput()\n",
    "    if widgets.fileName:\n",
    "        modeller.saveResults()\n",
    "\n",
    "widgets.saveButton.on_click(saveAnalysis)"
   ]
  },
  {
   "cell_type": "markdown",
   "metadata": {},
   "source": [
    "### Quote\n",
    "\"Blinking is, what we call, the reappearance of fluorscence.\", Franziska Fricke"
   ]
  }
 ],
 "metadata": {
  "kernelspec": {
   "display_name": "Python 3",
   "language": "python",
   "name": "python3"
  },
  "language_info": {
   "codemirror_mode": {
    "name": "ipython",
    "version": 3
   },
   "file_extension": ".py",
   "mimetype": "text/x-python",
   "name": "python",
   "nbconvert_exporter": "python",
   "pygments_lexer": "ipython3",
   "version": "3.6.6"
  }
 },
 "nbformat": 4,
 "nbformat_minor": 2
}
