{
 "cells": [
  {
   "cell_type": "markdown",
   "metadata": {
    "hideCode": true,
    "hidePrompt": true
   },
   "source": [
    "# qSMLM\n",
    "a tool for modeling single molecule localization microscopy blinking kinetics\n",
    "\n",
    "## p-Estimator\n",
    "estimate the blinking rate: p\n",
    "\n",
    "by\n",
    "\n",
    "Sebastian Malkusch\n",
    "\n",
    "2018-06-29\n",
    "\n",
    "single molecule biophysics,\n",
    "Goethe-University Frankfurt, Germany\n",
    "\n",
    "malkusch@chemie.uni-frankfurt.de\n",
    "\n",
    "www.smb.uni-frankfurt.de\n",
    "\n",
    "http://share.smb.uni-frankfurt.de"
   ]
  },
  {
   "cell_type": "markdown",
   "metadata": {
    "hideCode": true,
    "hidePrompt": true
   },
   "source": [
    "### Create Modeling System"
   ]
  },
  {
   "cell_type": "code",
   "execution_count": 1,
   "metadata": {
    "hideCode": true,
    "hidePrompt": true
   },
   "outputs": [
    {
     "name": "stdout",
     "output_type": "stream",
     "text": [
      "qsmlmWidgets initialized\n",
      "qsmlmPEstimator initialized\n",
      "qsmlmModel initialized\n",
      "qsmlmData initialized\n"
     ]
    }
   ],
   "source": [
    "from qSMLM.jupyter import qsmlmPEstimatorWidgets\n",
    "from qSMLM.preAnalysis import qsmlmPEstimator\n",
    "widgets = qsmlmPEstimatorWidgets.QsmlmPEstimatorWidgets()\n",
    "modeller = qsmlmPEstimator.QsmlmPEstimator()"
   ]
  },
  {
   "cell_type": "markdown",
   "metadata": {
    "hideCode": true,
    "hidePrompt": true
   },
   "source": [
    "### Define qSMLM Blinking Statistic Data Set\n",
    "Set the path to your data location. Define the columns to be loaded. n := blinking events p0 := number of positive events.\n",
    "The data must comprise monomeric oligomers only. The histogram needs to exist of absolute event numbers (integer). Normalization is done by qSMLM."
   ]
  },
  {
   "cell_type": "code",
   "execution_count": 2,
   "metadata": {
    "hideCode": true,
    "hidePrompt": true
   },
   "outputs": [
    {
     "data": {
      "application/vnd.jupyter.widget-view+json": {
       "model_id": "90086dc2431349ab903a832f3e113a4f",
       "version_major": 2,
       "version_minor": 0
      },
      "text/plain": [
       "Text(value='', description='path to file', placeholder='enter a string', style=DescriptionStyle(description_wi…"
      ]
     },
     "metadata": {},
     "output_type": "display_data"
    },
    {
     "data": {
      "application/vnd.jupyter.widget-view+json": {
       "model_id": "c5f155eca86d48519551919b406d29a4",
       "version_major": 2,
       "version_minor": 0
      },
      "text/plain": [
       "Button(description='browse', icon='check', style=ButtonStyle(), tooltip='Click me')"
      ]
     },
     "metadata": {},
     "output_type": "display_data"
    },
    {
     "data": {
      "application/vnd.jupyter.widget-view+json": {
       "model_id": "e3bdc0a8c7e14a3cb24a616dfc1919bc",
       "version_major": 2,
       "version_minor": 0
      },
      "text/plain": [
       "BoundedIntText(value=0, description='n', style=DescriptionStyle(description_width='initial'))"
      ]
     },
     "metadata": {},
     "output_type": "display_data"
    },
    {
     "data": {
      "application/vnd.jupyter.widget-view+json": {
       "model_id": "ee371ed69e0547b895e53743c702faa8",
       "version_major": 2,
       "version_minor": 0
      },
      "text/plain": [
       "BoundedIntText(value=1, description='p0', style=DescriptionStyle(description_width='initial'))"
      ]
     },
     "metadata": {},
     "output_type": "display_data"
    }
   ],
   "source": [
    "display(widgets.pathText, widgets.pathButton, widgets.nText, widgets.p0Text)"
   ]
  },
  {
   "cell_type": "markdown",
   "metadata": {
    "hideCode": true,
    "hidePrompt": true
   },
   "source": [
    "### Set Initial Parameters\n",
    "Give an initial guess for the blinking efficiency (initP)."
   ]
  },
  {
   "cell_type": "code",
   "execution_count": 3,
   "metadata": {
    "hideCode": true,
    "hidePrompt": true
   },
   "outputs": [
    {
     "data": {
      "application/vnd.jupyter.widget-view+json": {
       "model_id": "d2f59be6480a48c3881ba609a0a40d1f",
       "version_major": 2,
       "version_minor": 0
      },
      "text/plain": [
       "BoundedFloatText(value=0.3, description='initP', max=1.0, step=0.001, style=DescriptionStyle(description_width…"
      ]
     },
     "metadata": {},
     "output_type": "display_data"
    },
    {
     "data": {
      "application/vnd.jupyter.widget-view+json": {
       "model_id": "92a90feca2484f3a9409a1dbeb3fa6e2",
       "version_major": 2,
       "version_minor": 0
      },
      "text/plain": [
       "FloatSlider(value=0.3, continuous_update=False, description='initP', max=1.0, readout_format='.3f', step=0.001…"
      ]
     },
     "metadata": {},
     "output_type": "display_data"
    }
   ],
   "source": [
    "display(widgets.initPText, widgets.initPSlider)"
   ]
  },
  {
   "cell_type": "markdown",
   "metadata": {
    "hideCode": true,
    "hidePrompt": true
   },
   "source": [
    "### Data Modeling\n",
    "Model parameter estimation using a Trust Region Reflective algorithm  based least squares routine"
   ]
  },
  {
   "cell_type": "code",
   "execution_count": 4,
   "metadata": {
    "hideCode": true,
    "hidePrompt": true
   },
   "outputs": [
    {
     "data": {
      "application/vnd.jupyter.widget-view+json": {
       "model_id": "7302dcb67d7a4e4c94c0a5a01b79234d",
       "version_major": 2,
       "version_minor": 0
      },
      "text/plain": [
       "Button(description='run Analysis', icon='check', style=ButtonStyle(), tooltip='Click me')"
      ]
     },
     "metadata": {},
     "output_type": "display_data"
    }
   ],
   "source": [
    "display(widgets.analysisButton)\n",
    "def runAnalysis(event):\n",
    "    widgets.clearOutput()\n",
    "    if widgets.fileName:\n",
    "        modeller.runAnalysis(n=widgets.nText.value,\n",
    "                             p0=widgets.p0Text.value,\n",
    "                             initP=widgets.initPText.value,\n",
    "                             fileName = widgets.fileName)\n",
    "\n",
    "widgets.analysisButton.on_click(runAnalysis)"
   ]
  },
  {
   "cell_type": "markdown",
   "metadata": {
    "hideCode": true,
    "hidePrompt": true
   },
   "source": [
    "### Save Model\n",
    "Save results of modelig routine"
   ]
  },
  {
   "cell_type": "code",
   "execution_count": 5,
   "metadata": {
    "hideCode": true,
    "hidePrompt": true
   },
   "outputs": [
    {
     "data": {
      "application/vnd.jupyter.widget-view+json": {
       "model_id": "4ae166c21d254e7c8be0b4e3b4ffc1a3",
       "version_major": 2,
       "version_minor": 0
      },
      "text/plain": [
       "Button(description='save results', icon='check', style=ButtonStyle(), tooltip='Click me')"
      ]
     },
     "metadata": {},
     "output_type": "display_data"
    }
   ],
   "source": [
    "display(widgets.saveButton)\n",
    "def saveAnalysis(event):\n",
    "    widgets.clearOutput()\n",
    "    if widgets.fileName:\n",
    "        modeller.saveResults()\n",
    "\n",
    "widgets.saveButton.on_click(saveAnalysis)"
   ]
  },
  {
   "cell_type": "markdown",
   "metadata": {
    "hideCode": true,
    "hidePrompt": true
   },
   "source": [
    "### Quote\n",
    "\"According to our definition, blinkling is the reappearance of fluorescence.\", Franziska Fricke"
   ]
  }
 ],
 "metadata": {
  "kernelspec": {
   "display_name": "Python 3",
   "language": "python",
   "name": "python3"
  },
  "language_info": {
   "codemirror_mode": {
    "name": "ipython",
    "version": 3
   },
   "file_extension": ".py",
   "mimetype": "text/x-python",
   "name": "python",
   "nbconvert_exporter": "python",
   "pygments_lexer": "ipython3",
   "version": "3.6.7"
  }
 },
 "nbformat": 4,
 "nbformat_minor": 2
}
