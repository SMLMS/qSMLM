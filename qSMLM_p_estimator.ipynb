{
 "cells": [
  {
   "cell_type": "markdown",
   "metadata": {},
   "source": [
    "# qSMLM\n",
    "a tool for modeling single molecule localization microscopy blinking kinetics\n",
    "\n",
    "## p-Estimator\n",
    "estimate the blinking rate: p\n",
    "\n",
    "by\n",
    "\n",
    "Sebastian Malkusch\n",
    "\n",
    "2018-06-29\n",
    "\n",
    "single molecule biophysics,\n",
    "Goethe-University Frankfurt, Germany\n",
    "\n",
    "malkusch@chemie.uni-frankfurt.de\n",
    "\n",
    "www.smb.uni-frankfurt.de\n",
    "\n",
    "http://share.smb.uni-frankfurt.de"
   ]
  },
  {
   "cell_type": "markdown",
   "metadata": {},
   "source": [
    "### Create Modelling System"
   ]
  },
  {
   "cell_type": "code",
   "execution_count": 1,
   "metadata": {},
   "outputs": [
    {
     "name": "stdout",
     "output_type": "stream",
     "text": [
      "qsmlmPEstimator initialized\n",
      "qsmlmModel initialized\n",
      "qsmlmData initialized\n"
     ]
    }
   ],
   "source": [
    "import qsmlm\n",
    "modeller = qsmlm.qsmlmPEstimator.QsmlmPEstimator()"
   ]
  },
  {
   "cell_type": "markdown",
   "metadata": {},
   "source": [
    "### Set Parameters\n",
    "Set parameter values for the blinking model.\n",
    "Give an initial guess for the blinking efficiency (initP).\n",
    "Your data needs to be of a monomeric oligomeric state."
   ]
  },
  {
   "cell_type": "code",
   "execution_count": 2,
   "metadata": {
    "scrolled": true
   },
   "outputs": [
    {
     "name": "stdout",
     "output_type": "stream",
     "text": [
      "\n",
      "\n",
      "number of states: 1\n",
      "\n",
      "\n",
      "state vector:\n",
      "[0]\n",
      "\n",
      "\n",
      "normalized weight vector:\n",
      "[1.]\n",
      "\n",
      "\n",
      "d: 1.0\n",
      "\n",
      "\n",
      "p: 0.2\n",
      "\n",
      "\n"
     ]
    }
   ],
   "source": [
    "initP = 0.2\n",
    "\n",
    "modeller.initQsmlmModel(initP)"
   ]
  },
  {
   "cell_type": "markdown",
   "metadata": {},
   "source": [
    "### Load qSMLM Blinking Statistic Data Set\n",
    "Define the columns to be loaded.\n",
    "n  := blinking events\n",
    "p0 := number of positive events\n",
    "The histogram needs to exist of absolute event numbers (integer)"
   ]
  },
  {
   "cell_type": "code",
   "execution_count": 3,
   "metadata": {},
   "outputs": [
    {
     "name": "stdout",
     "output_type": "stream",
     "text": [
      "loaded data from: E:/qSMLM/ssp-simulationen/single_oligo_states/monomer/histogram.txt\n"
     ]
    }
   ],
   "source": [
    "n=0\n",
    "p0=1\n",
    "modeller.loadData(n,p0)"
   ]
  },
  {
   "cell_type": "markdown",
   "metadata": {},
   "source": [
    "### Data Modeling\n",
    "Model parameter estimation using a Trust Region Reflective algorithm  based least squares routine"
   ]
  },
  {
   "cell_type": "code",
   "execution_count": 4,
   "metadata": {},
   "outputs": [
    {
     "name": "stdout",
     "output_type": "stream",
     "text": [
      "\n",
      "\n",
      "number of states: 1\n",
      "\n",
      "\n",
      "state vector:\n",
      "[0]\n",
      "\n",
      "\n",
      "normalized weight vector:\n",
      "[1.]\n",
      "\n",
      "\n",
      "d: 1.0\n",
      "\n",
      "\n",
      "p: 0.20500692065647294\n",
      "\n",
      "\n",
      "fitting results:\n",
      "errors:\n",
      "[2.26631856e-05]\n"
     ]
    }
   ],
   "source": [
    "modeller.lsOptimization()"
   ]
  },
  {
   "cell_type": "markdown",
   "metadata": {},
   "source": [
    "### Evaluate Model\n",
    "Calculate information about how well the model fits the data"
   ]
  },
  {
   "cell_type": "code",
   "execution_count": 5,
   "metadata": {},
   "outputs": [
    {
     "name": "stdout",
     "output_type": "stream",
     "text": [
      "number of observations:\t836\n",
      "number of estimated parameters:\t1\n",
      "LogL:\t107.06820282\n",
      "BIC:\t-207.40777703\n",
      "AIC:\t-212.13640564\n",
      "AICc:\t-212.13160948\n"
     ]
    }
   ],
   "source": [
    "modeller.printModelStatistics()"
   ]
  },
  {
   "cell_type": "markdown",
   "metadata": {},
   "source": [
    "### Plot Modeling Results\n",
    "Plot the LS-based model"
   ]
  },
  {
   "cell_type": "code",
   "execution_count": 6,
   "metadata": {},
   "outputs": [
    {
     "data": {
      "image/png": "[encoded data removed]",
      "text/plain": [
       "<Figure size 432x288 with 1 Axes>"
      ]
     },
     "metadata": {
      "needs_background": "light"
     },
     "output_type": "display_data"
    },
    {
     "data": {
      "image/png": "[encoded data removed]",
      "text/plain": [
       "<Figure size 432x288 with 1 Axes>"
      ]
     },
     "metadata": {
      "needs_background": "light"
     },
     "output_type": "display_data"
    }
   ],
   "source": [
    "modeller.plotResults()"
   ]
  },
  {
   "cell_type": "markdown",
   "metadata": {},
   "source": [
    "### Save Model\n",
    "Save results of modelig routine"
   ]
  },
  {
   "cell_type": "code",
   "execution_count": 7,
   "metadata": {},
   "outputs": [
    {
     "name": "stdout",
     "output_type": "stream",
     "text": [
      "\n",
      "Modeling statistics written to 2018-11-01-histogram_p-estimation_ls-fit-statistics.txt\n",
      "\n",
      "LS-based modeling results written to 2018-11-01-histogram_p-estimation_ls-ls-fit.txt\n"
     ]
    }
   ],
   "source": [
    "modeller.saveResults()"
   ]
  },
  {
   "cell_type": "markdown",
   "metadata": {},
   "source": [
    "### Quote\n",
    "\"Blinking is, what we call, the reappearance of fluorscence.\", Franziska Fricke"
   ]
  }
 ],
 "metadata": {
  "kernelspec": {
   "display_name": "Python 3",
   "language": "python",
   "name": "python3"
  },
  "language_info": {
   "codemirror_mode": {
    "name": "ipython",
    "version": 3
   },
   "file_extension": ".py",
   "mimetype": "text/x-python",
   "name": "python",
   "nbconvert_exporter": "python",
   "pygments_lexer": "ipython3",
   "version": "3.6.6"
  }
 },
 "nbformat": 4,
 "nbformat_minor": 2
}
