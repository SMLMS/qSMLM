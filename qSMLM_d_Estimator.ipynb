{
 "cells": [
  {
   "cell_type": "markdown",
   "metadata": {},
   "source": [
    "# qSMLM\n",
    "a tool for modeling single molecule localization microscopy blinking kinetics\n",
    "\n",
    "## d-Estimator\n",
    "estimate the detection efficiency: d\n",
    "\n",
    "by\n",
    "\n",
    "Sebastian Malkusch\n",
    "\n",
    "2018-06-29\n",
    "\n",
    "single molecule biophysics,\n",
    "Goethe-University Frankfurt, Germany\n",
    "\n",
    "malkusch@chemie.uni-frankfurt.de\n",
    "\n",
    "www.smb.uni-frankfurt.de\n",
    "\n",
    "http://share.smb.uni-frankfurt.de"
   ]
  },
  {
   "cell_type": "markdown",
   "metadata": {},
   "source": [
    "### Create Modelling System"
   ]
  },
  {
   "cell_type": "code",
   "execution_count": 1,
   "metadata": {},
   "outputs": [
    {
     "name": "stdout",
     "output_type": "stream",
     "text": [
      "qsmlmWidgets initialized\n",
      "qsmlmPEstimator initialized\n",
      "qsmlmModel initialized\n",
      "qsmlmData initialized\n"
     ]
    }
   ],
   "source": [
    "from qSMLM.jupyter import qsmlmDEstimatorWidgets\n",
    "from qSMLM.preAnalysis import qsmlmDEstimator\n",
    "widgets = qsmlmDEstimatorWidgets.QsmlmDEstimatorWidgets()\n",
    "modeller = qsmlmDEstimator.QsmlmDEstimator()"
   ]
  },
  {
   "cell_type": "markdown",
   "metadata": {},
   "source": [
    "### Define qSMLM Blinking Statistic Data Set\n",
    "Set the path to your data location. Define the columns to be loaded. n := blinking events p0 := number of positive events. The data must comprise monomeric oligomers only. The histogram needs to exist of absolute event numbers (integer). Normalization is done by qSMLM."
   ]
  },
  {
   "cell_type": "code",
   "execution_count": 6,
   "metadata": {},
   "outputs": [
    {
     "data": {
      "application/vnd.jupyter.widget-view+json": {
       "model_id": "19f5c3a656834bf282ff944094c8bb0b",
       "version_major": 2,
       "version_minor": 0
      },
      "text/plain": [
       "Text(value='/Users/malkusch/Documents/Biophysik/qSMLM/dimer/ssp_at_2019-01-15_13-03-32_histogram.txt', descrip…"
      ]
     },
     "metadata": {},
     "output_type": "display_data"
    },
    {
     "data": {
      "application/vnd.jupyter.widget-view+json": {
       "model_id": "8b776a58bc954c95a44d01ff7e8a2163",
       "version_major": 2,
       "version_minor": 0
      },
      "text/plain": [
       "Button(description='browse', icon='check', style=ButtonStyle(), tooltip='Click me')"
      ]
     },
     "metadata": {},
     "output_type": "display_data"
    },
    {
     "data": {
      "application/vnd.jupyter.widget-view+json": {
       "model_id": "646980cd797e413b87b9f49da6b4d881",
       "version_major": 2,
       "version_minor": 0
      },
      "text/plain": [
       "BoundedIntText(value=0, description='n', style=DescriptionStyle(description_width='initial'))"
      ]
     },
     "metadata": {},
     "output_type": "display_data"
    },
    {
     "data": {
      "application/vnd.jupyter.widget-view+json": {
       "model_id": "c281d6f6114e49399ae698594434f9b4",
       "version_major": 2,
       "version_minor": 0
      },
      "text/plain": [
       "BoundedIntText(value=1, description='p0', style=DescriptionStyle(description_width='initial'))"
      ]
     },
     "metadata": {},
     "output_type": "display_data"
    }
   ],
   "source": [
    "display(widgets.pathText, widgets.pathButton, widgets.nText, widgets.p0Text)"
   ]
  },
  {
   "cell_type": "markdown",
   "metadata": {},
   "source": [
    "### Set Initial Parameters\n",
    "Set parameter values for the blinking model.\n",
    "The blinking rate (p) needs to be determined within a former analysis using \"qSMLM_p_Estimator\"\n",
    "Give an initial guess for the detection efficiency (initD).\n",
    "The model needs to be of a single oligomeric state (m = int). Reme,ber, that a monomer is m=0!"
   ]
  },
  {
   "cell_type": "code",
   "execution_count": 3,
   "metadata": {
    "scrolled": true
   },
   "outputs": [
    {
     "data": {
      "application/vnd.jupyter.widget-view+json": {
       "model_id": "c13bd402b9ee459e9590b7354a640780",
       "version_major": 2,
       "version_minor": 0
      },
      "text/plain": [
       "BoundedIntText(value=1, description='m', style=DescriptionStyle(description_width='initial'))"
      ]
     },
     "metadata": {},
     "output_type": "display_data"
    },
    {
     "data": {
      "application/vnd.jupyter.widget-view+json": {
       "model_id": "2d9f1f396d6a4309ad24ac25b3484dea",
       "version_major": 2,
       "version_minor": 0
      },
      "text/plain": [
       "BoundedFloatText(value=0.3, description='p', max=1.0, step=0.001, style=DescriptionStyle(description_width='in…"
      ]
     },
     "metadata": {},
     "output_type": "display_data"
    },
    {
     "data": {
      "application/vnd.jupyter.widget-view+json": {
       "model_id": "a23b7a941a774c7c9a0114086175c3a9",
       "version_major": 2,
       "version_minor": 0
      },
      "text/plain": [
       "BoundedFloatText(value=0.3, description='initD', max=1.0, step=0.001, style=DescriptionStyle(description_width…"
      ]
     },
     "metadata": {},
     "output_type": "display_data"
    },
    {
     "data": {
      "application/vnd.jupyter.widget-view+json": {
       "model_id": "601122ee7d1f4a96b23484d4abdac736",
       "version_major": 2,
       "version_minor": 0
      },
      "text/plain": [
       "FloatSlider(value=0.3, continuous_update=False, description='initD', max=1.0, readout_format='.3f', step=0.001…"
      ]
     },
     "metadata": {},
     "output_type": "display_data"
    }
   ],
   "source": [
    "display(widgets.mText, widgets.pText, widgets.initDText, widgets.initDSlider)"
   ]
  },
  {
   "cell_type": "markdown",
   "metadata": {},
   "source": [
    "### Data Modeling\n",
    "Model parameter estimation using a Trust Region Reflective algorithm  based least squares routine"
   ]
  },
  {
   "cell_type": "code",
   "execution_count": 7,
   "metadata": {},
   "outputs": [
    {
     "name": "stdout",
     "output_type": "stream",
     "text": [
      "loaded data from: /Users/malkusch/Documents/Biophysik/qSMLM/dimer/ssp_at_2019-01-15_13-03-32_histogram.txt\n",
      "\n",
      "Initialized model parameters:\n",
      "\n",
      "\n",
      "number of measurements: 9293.0\n",
      "\n",
      "\n",
      "number of states: 1\n",
      "\n",
      "\n",
      "state vector:\n",
      "[1]\n",
      "\n",
      "\n",
      "apparent weight vector:\n",
      "[1.0]\n",
      "\n",
      "\n",
      "corrected weight vector:\n",
      "[1.]\n",
      "\n",
      "\n",
      "d: 0.3\n",
      "\n",
      "\n",
      "p: 0.198\n",
      "\n",
      "\n",
      "\n",
      "\n",
      "Optimized model parameters:\n",
      "\n",
      "\n",
      "number of measurements: 9293.0\n",
      "\n",
      "\n",
      "number of states: 1\n",
      "\n",
      "\n",
      "state vector:\n",
      "[1]\n",
      "\n",
      "\n",
      "apparent weight vector:\n",
      "[1.0]\n",
      "\n",
      "\n",
      "corrected weight vector:\n",
      "[1.]\n",
      "\n",
      "\n",
      "d: 0.7397597981749532\n",
      "\n",
      "\n",
      "p: 0.198\n",
      "\n",
      "\n",
      "fitting results:\n",
      "errors:\n",
      "[1.35530282e-05]\n",
      "\n",
      "\n",
      "Optimized model statistics:\n",
      "number of observations:\t9293\n",
      "number of estimated parameters:\t1\n",
      "LogL:\t292.08491499\n",
      "BIC:\t-575.03281326\n",
      "AIC:\t-582.16982997\n",
      "AICc:\t-582.16939945\n"
     ]
    },
    {
     "data": {
      "image/png": "[encoded data removed]",
      "text/plain": [
       "<Figure size 432x288 with 1 Axes>"
      ]
     },
     "metadata": {},
     "output_type": "display_data"
    },
    {
     "data": {
      "image/png": "[encoded data removed]",
      "text/plain": [
       "<Figure size 432x288 with 1 Axes>"
      ]
     },
     "metadata": {},
     "output_type": "display_data"
    }
   ],
   "source": [
    "display(widgets.analysisButton)\n",
    "def runAnalysis(event):\n",
    "    widgets.clearOutput()\n",
    "    if widgets.fileName:\n",
    "        modeller.runAnalysis(n=widgets.nText.value,\n",
    "                             p0=widgets.p0Text.value,\n",
    "                             m = widgets.mText.value,\n",
    "                             p = widgets.pText.value,\n",
    "                             initD=widgets.initDText.value,\n",
    "                             fileName = widgets.fileName)\n",
    "\n",
    "widgets.analysisButton.on_click(runAnalysis)"
   ]
  },
  {
   "cell_type": "markdown",
   "metadata": {},
   "source": [
    "### Save Model\n",
    "Save results of modelig routine"
   ]
  },
  {
   "cell_type": "code",
   "execution_count": 5,
   "metadata": {},
   "outputs": [
    {
     "name": "stdout",
     "output_type": "stream",
     "text": [
      "\n",
      "Modeling statistics written to 2019-01-15-ssp_at_2019-01-15_13-03-32_histogram_d-estimation_ls_model.txt\n",
      "\n",
      "LS-based modeling results written to 2019-01-15-ssp_at_2019-01-15_13-03-32_histogram_d-estimation_ls_fit.txt\n"
     ]
    }
   ],
   "source": [
    "display(widgets.saveButton)\n",
    "def saveAnalysis(event):\n",
    "    widgets.clearOutput()\n",
    "    if widgets.fileName:\n",
    "        modeller.saveResults()\n",
    "\n",
    "widgets.saveButton.on_click(saveAnalysis)"
   ]
  },
  {
   "cell_type": "markdown",
   "metadata": {},
   "source": [
    "### Quote\n",
    "\"Blinking is, what we call, the reappearance of fluorscence.\", Franziska Fricke"
   ]
  }
 ],
 "metadata": {
  "kernelspec": {
   "display_name": "Python 3",
   "language": "python",
   "name": "python3"
  },
  "language_info": {
   "codemirror_mode": {
    "name": "ipython",
    "version": 3
   },
   "file_extension": ".py",
   "mimetype": "text/x-python",
   "name": "python",
   "nbconvert_exporter": "python",
   "pygments_lexer": "ipython3",
   "version": "3.6.6"
  }
 },
 "nbformat": 4,
 "nbformat_minor": 2
}
