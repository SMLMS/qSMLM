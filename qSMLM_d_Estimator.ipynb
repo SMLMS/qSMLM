{
 "cells": [
  {
   "cell_type": "markdown",
   "metadata": {},
   "source": [
    "# qSMLM\n",
    "a tool for modeling single molecule localization microscopy blinking kinetics\n",
    "\n",
    "## d-Estimator\n",
    "estimate the detection efficiency: d\n",
    "\n",
    "by\n",
    "\n",
    "Sebastian Malkusch\n",
    "\n",
    "2018-06-29\n",
    "\n",
    "single molecule biophysics,\n",
    "Goethe-University Frankfurt, Germany\n",
    "\n",
    "malkusch@chemie.uni-frankfurt.de\n",
    "\n",
    "www.smb.uni-frankfurt.de\n",
    "\n",
    "http://share.smb.uni-frankfurt.de"
   ]
  },
  {
   "cell_type": "markdown",
   "metadata": {},
   "source": [
    "### Create Modelling System"
   ]
  },
  {
   "cell_type": "code",
   "execution_count": 8,
   "metadata": {},
   "outputs": [
    {
     "name": "stdout",
     "output_type": "stream",
     "text": [
      "qsmlmPEstimator initialized\n",
      "qsmlmModel initialized\n",
      "qsmlmData initialized\n"
     ]
    }
   ],
   "source": [
    "import qsmlm\n",
    "modeller = qsmlm.qsmlmDEstimator.QsmlmDEstimator()"
   ]
  },
  {
   "cell_type": "markdown",
   "metadata": {},
   "source": [
    "### Set Parameters\n",
    "Set parameter values for the blinking model.\n",
    "The blinking rate (p) needs to be determined within a former analysis using \"qSMLM-p-Estimator\"\n",
    "Give an initial guess for the detection efficiency (initD).\n",
    "The model needs to be of a single oligomeric state (state = int)."
   ]
  },
  {
   "cell_type": "code",
   "execution_count": 9,
   "metadata": {
    "scrolled": true
   },
   "outputs": [
    {
     "name": "stdout",
     "output_type": "stream",
     "text": [
      "\n",
      "\n",
      "number of states: 1\n",
      "\n",
      "\n",
      "state vector:\n",
      "[2]\n",
      "\n",
      "\n",
      "normalized weight vector:\n",
      "[1.]\n",
      "\n",
      "\n",
      "d: 0.9\n",
      "\n",
      "\n",
      "p: 0.2\n",
      "\n",
      "\n"
     ]
    }
   ],
   "source": [
    "initD = 0.9\n",
    "p = 0.2\n",
    "state = 2\n",
    "\n",
    "modeller.initQsmlmModel(state, initD, p)"
   ]
  },
  {
   "cell_type": "markdown",
   "metadata": {},
   "source": [
    "### Load qSMLM Blinking Statistic Data Set\n",
    "Define the columns to be loaded.\n",
    "n  := blinking events\n",
    "p0 := number of positive events\n",
    "The histogram needs to exist of absolute event numbers (integer)"
   ]
  },
  {
   "cell_type": "code",
   "execution_count": 10,
   "metadata": {},
   "outputs": [
    {
     "name": "stdout",
     "output_type": "stream",
     "text": [
      "loaded data from: E:/qSMLM/ssp-simulationen/single_oligo_states/trimer/histogram.txt\n"
     ]
    }
   ],
   "source": [
    "n=0\n",
    "p0=1\n",
    "modeller.loadData(n,p0)"
   ]
  },
  {
   "cell_type": "markdown",
   "metadata": {},
   "source": [
    "### Data Modeling\n",
    "Model parameter estimation using a Trust Region Reflective algorithm  based least squares routine"
   ]
  },
  {
   "cell_type": "code",
   "execution_count": 11,
   "metadata": {},
   "outputs": [
    {
     "name": "stdout",
     "output_type": "stream",
     "text": [
      "\n",
      "\n",
      "number of states: 1\n",
      "\n",
      "\n",
      "state vector:\n",
      "[2]\n",
      "\n",
      "\n",
      "normalized weight vector:\n",
      "[1.]\n",
      "\n",
      "\n",
      "d: 0.8088131723395625\n",
      "\n",
      "\n",
      "p: 0.2\n",
      "\n",
      "\n",
      "fitting results:\n",
      "errors:\n",
      "[0.00010831]\n"
     ]
    }
   ],
   "source": [
    "modeller.lsOptimization()"
   ]
  },
  {
   "cell_type": "markdown",
   "metadata": {},
   "source": [
    "### Evaluate Model\n",
    "Calculate information about how well the model fits the data"
   ]
  },
  {
   "cell_type": "code",
   "execution_count": 12,
   "metadata": {},
   "outputs": [
    {
     "name": "stdout",
     "output_type": "stream",
     "text": [
      "number of observations:\t994\n",
      "number of estimated parameters:\t1\n",
      "LogL:\t225.78139554\n",
      "BIC:\t-444.66105386\n",
      "AIC:\t-449.56279107\n",
      "AICc:\t-449.55875881\n"
     ]
    }
   ],
   "source": [
    "modeller.printModelStatistics()"
   ]
  },
  {
   "cell_type": "markdown",
   "metadata": {},
   "source": [
    "### Plot Modeling Results\n",
    "Plot the LS-based model"
   ]
  },
  {
   "cell_type": "code",
   "execution_count": 13,
   "metadata": {},
   "outputs": [
    {
     "data": {
      "image/png": "[encoded data removed]",
      "text/plain": [
       "<Figure size 432x288 with 1 Axes>"
      ]
     },
     "metadata": {
      "needs_background": "light"
     },
     "output_type": "display_data"
    },
    {
     "data": {
      "image/png": "[encoded data removed]",
      "text/plain": [
       "<Figure size 432x288 with 1 Axes>"
      ]
     },
     "metadata": {
      "needs_background": "light"
     },
     "output_type": "display_data"
    }
   ],
   "source": [
    "modeller.plotResults()"
   ]
  },
  {
   "cell_type": "markdown",
   "metadata": {},
   "source": [
    "### Save Model\n",
    "Save results of modelig routine"
   ]
  },
  {
   "cell_type": "code",
   "execution_count": 14,
   "metadata": {},
   "outputs": [
    {
     "name": "stdout",
     "output_type": "stream",
     "text": [
      "\n",
      "Modeling statistics written to 2018-11-01-histogram_d-estimation_ls-fit-statistics.txt\n",
      "\n",
      "LS-based modeling results written to 2018-11-01-histogram_d-estimation_ls-ls-fit.txt\n"
     ]
    }
   ],
   "source": [
    "modeller.saveResults()"
   ]
  },
  {
   "cell_type": "markdown",
   "metadata": {},
   "source": [
    "### Quote\n",
    "\"Blinking is, what we call, the reappearance of fluorscence.\", Franziska Fricke"
   ]
  }
 ],
 "metadata": {
  "kernelspec": {
   "display_name": "Python 3",
   "language": "python",
   "name": "python3"
  },
  "language_info": {
   "codemirror_mode": {
    "name": "ipython",
    "version": 3
   },
   "file_extension": ".py",
   "mimetype": "text/x-python",
   "name": "python",
   "nbconvert_exporter": "python",
   "pygments_lexer": "ipython3",
   "version": "3.6.6"
  }
 },
 "nbformat": 4,
 "nbformat_minor": 2
}
