{
 "cells": [
  {
   "cell_type": "markdown",
   "metadata": {},
   "source": [
    "# qSMLM\n",
    "a tool for modeling single molecule localization microscopy blinking kinetics\n",
    "\n",
    "## fraction-Estimator\n",
    "estimate the composition of oligomeric states from single molecule blinking statistics\n",
    "\n",
    "by\n",
    "\n",
    "Sebastian Malkusch\n",
    "\n",
    "2018-06-29\n",
    "\n",
    "single molecule biophysics,\n",
    "Goethe-University Frankfurt, Germany\n",
    "\n",
    "malkusch@chemie.uni-frankfurt.de\n",
    "\n",
    "www.smb.uni-frankfurt.de\n",
    "\n",
    "http://share.smb.uni-frankfurt.de"
   ]
  },
  {
   "cell_type": "markdown",
   "metadata": {},
   "source": [
    "### Create Modelling System"
   ]
  },
  {
   "cell_type": "code",
   "execution_count": 1,
   "metadata": {},
   "outputs": [
    {
     "name": "stdout",
     "output_type": "stream",
     "text": [
      "qsmlmWidgets initialized\n",
      "qsmlmPEstimator initialized\n",
      "qsmlmModel initialized\n",
      "qsmlmData initialized\n"
     ]
    }
   ],
   "source": [
    "from qSMLM.jupyter import qsmlmFractionEstimatorWidgets\n",
    "from qSMLM.modelAnalysis import qsmlmFractionEstimator\n",
    "widgets = qsmlmFractionEstimatorWidgets.QsmlmFractionEstimatorWidgets()\n",
    "modeller = qsmlmFractionEstimator.QsmlmFractionEstimator()"
   ]
  },
  {
   "cell_type": "markdown",
   "metadata": {},
   "source": [
    "### Define qSMLM Blinking Statistic Data Set\n",
    "Set the path to your data location. Define the columns to be loaded. n := blinking events p0 := number of positive events. The data must comprise monomeric oligomers only. The histogram needs to exist of absolute event numbers (integer). Normalization is done by qSMLM."
   ]
  },
  {
   "cell_type": "code",
   "execution_count": 166,
   "metadata": {},
   "outputs": [
    {
     "data": {
      "application/vnd.jupyter.widget-view+json": {
       "model_id": "f2a8aac16fcf44bbb01ac51f2db09ece",
       "version_major": 2,
       "version_minor": 0
      },
      "text/plain": [
       "Text(value='E:/qSMLM/ssp-simulationen/model_selection_iop/likelihood/1_mer/ssp_at_2019-02-25_08-42-26_histogra…"
      ]
     },
     "metadata": {},
     "output_type": "display_data"
    },
    {
     "data": {
      "application/vnd.jupyter.widget-view+json": {
       "model_id": "a6595b064dc34d7282ab5a3fba89e14e",
       "version_major": 2,
       "version_minor": 0
      },
      "text/plain": [
       "Button(description='browse', icon='check', style=ButtonStyle(), tooltip='Click me')"
      ]
     },
     "metadata": {},
     "output_type": "display_data"
    },
    {
     "data": {
      "application/vnd.jupyter.widget-view+json": {
       "model_id": "9e5d616382874f12bd8fa3947081fd9f",
       "version_major": 2,
       "version_minor": 0
      },
      "text/plain": [
       "BoundedIntText(value=0, description='n', style=DescriptionStyle(description_width='initial'))"
      ]
     },
     "metadata": {},
     "output_type": "display_data"
    },
    {
     "data": {
      "application/vnd.jupyter.widget-view+json": {
       "model_id": "6213127c02ad4d5d83be934398ed7ea4",
       "version_major": 2,
       "version_minor": 0
      },
      "text/plain": [
       "BoundedIntText(value=1, description='p0', style=DescriptionStyle(description_width='initial'))"
      ]
     },
     "metadata": {},
     "output_type": "display_data"
    }
   ],
   "source": [
    "display(widgets.pathText, widgets.pathButton, widgets.nText, widgets.p0Text)"
   ]
  },
  {
   "cell_type": "markdown",
   "metadata": {},
   "source": [
    "### Set Initial Parameters\n",
    "Set parameter values for the blinking model.\n",
    "The detection efficiency (d) needs to be determined within a former analysis using \"qSMLM-d-Estimator\"\n",
    "The blinking rate (p) needs to be determined within a former analysis using \"qSMLM-p-Estimator\"\n",
    "Giva a vector of populated states (m).\n",
    "Give an initial guess for the state populations (initWeigth)."
   ]
  },
  {
   "cell_type": "code",
   "execution_count": 167,
   "metadata": {
    "scrolled": true
   },
   "outputs": [
    {
     "data": {
      "application/vnd.jupyter.widget-view+json": {
       "model_id": "43adc9fc97a9475b800c6ad1160075dd",
       "version_major": 2,
       "version_minor": 0
      },
      "text/plain": [
       "BoundedFloatText(value=0.57, description='d', max=1.0, step=0.001, style=DescriptionStyle(description_width='i…"
      ]
     },
     "metadata": {},
     "output_type": "display_data"
    },
    {
     "data": {
      "application/vnd.jupyter.widget-view+json": {
       "model_id": "8c33e8b54de64126af553211c0e60f6a",
       "version_major": 2,
       "version_minor": 0
      },
      "text/plain": [
       "BoundedFloatText(value=0.3, description='p', max=1.0, step=0.001, style=DescriptionStyle(description_width='in…"
      ]
     },
     "metadata": {},
     "output_type": "display_data"
    },
    {
     "data": {
      "application/vnd.jupyter.widget-view+json": {
       "model_id": "425b1fbeb2784a99ae412382d2124772",
       "version_major": 2,
       "version_minor": 0
      },
      "text/plain": [
       "Text(value='4', description='m vector', placeholder='0, 1, 2', style=DescriptionStyle(description_width='initi…"
      ]
     },
     "metadata": {},
     "output_type": "display_data"
    },
    {
     "data": {
      "application/vnd.jupyter.widget-view+json": {
       "model_id": "a7844af7d4d14a439cae98eacb34e9c4",
       "version_major": 2,
       "version_minor": 0
      },
      "text/plain": [
       "Valid(value=True, description='m vector validity:', style=DescriptionStyle(description_width='initial'))"
      ]
     },
     "metadata": {},
     "output_type": "display_data"
    },
    {
     "data": {
      "application/vnd.jupyter.widget-view+json": {
       "model_id": "99acb22507c446ee8412143e80bcec58",
       "version_major": 2,
       "version_minor": 0
      },
      "text/plain": [
       "Text(value='1.0', description='weight vector', placeholder='0.3, 0.3, 0.3', style=DescriptionStyle(description…"
      ]
     },
     "metadata": {},
     "output_type": "display_data"
    },
    {
     "data": {
      "application/vnd.jupyter.widget-view+json": {
       "model_id": "3292fdf7ae284535b8efa72e44eb4eb8",
       "version_major": 2,
       "version_minor": 0
      },
      "text/plain": [
       "Valid(value=True, description='weight vector validity:', style=DescriptionStyle(description_width='initial'))"
      ]
     },
     "metadata": {},
     "output_type": "display_data"
    }
   ],
   "source": [
    "display(widgets.dText, widgets.pText, widgets.mVectorText, widgets.mVectorValidity, widgets.weightVectorText, widgets.weightVectorValidity)"
   ]
  },
  {
   "cell_type": "markdown",
   "metadata": {},
   "source": [
    "### Select Parameter Estimator\n",
    "Choose between a least squares or maximum likelihood based routine."
   ]
  },
  {
   "cell_type": "code",
   "execution_count": 168,
   "metadata": {},
   "outputs": [
    {
     "data": {
      "application/vnd.jupyter.widget-view+json": {
       "model_id": "7b6127247a234e4282387396ae635c3c",
       "version_major": 2,
       "version_minor": 0
      },
      "text/plain": [
       "Select(description='optimizer', index=1, options=('least squares', 'maximum likelihood'), rows=1, value='maxim…"
      ]
     },
     "metadata": {},
     "output_type": "display_data"
    }
   ],
   "source": [
    "display(widgets.optimizerSelector)"
   ]
  },
  {
   "cell_type": "markdown",
   "metadata": {},
   "source": [
    "### Data Modeling\n"
   ]
  },
  {
   "cell_type": "code",
   "execution_count": 169,
   "metadata": {},
   "outputs": [
    {
     "name": "stdout",
     "output_type": "stream",
     "text": [
      "loaded data from: E:/qSMLM/ssp-simulationen/model_selection_iop/likelihood/1_mer/ssp_at_2019-02-25_08-42-26_histogram.txt\n",
      "\n",
      "Initialized model parameters:\n",
      "\n",
      "\n",
      "number of measurements: 558.0\n",
      "\n",
      "\n",
      "number of states: 1\n",
      "\n",
      "\n",
      "state vector:\n",
      "[4]\n",
      "\n",
      "\n",
      "apparent weight vector:\n",
      "[1.0]\n",
      "\n",
      "\n",
      "corrected weight vector:\n",
      "[1.]\n",
      "\n",
      "\n",
      "d: 0.57\n",
      "\n",
      "\n",
      "p: 0.3\n",
      "\n",
      "\n",
      "\n",
      "\n",
      "Optimized model parameters:\n",
      "\n",
      "\n",
      "number of measurements: 558.0\n",
      "\n",
      "\n",
      "number of states: 1\n",
      "\n",
      "\n",
      "state vector:\n",
      "[4]\n",
      "\n",
      "\n",
      "apparent weight vector:\n",
      "[1.]\n",
      "\n",
      "\n",
      "corrected weight vector:\n",
      "[1.]\n",
      "\n",
      "\n",
      "d: 0.57\n",
      "\n",
      "\n",
      "p: 0.3\n",
      "\n",
      "\n",
      "\n",
      "\n",
      "Optimized model statistics:\n",
      "number of observations:\t558\n",
      "number of estimated parameters:\t0\n",
      "LogL:\t-1697.85543390\n",
      "BIC:\t3395.71086779\n",
      "AIC:\t3395.71086779\n",
      "AICc:\t3395.71086779\n"
     ]
    },
    {
     "data": {
      "image/png": "[encoded data removed]",
      "text/plain": [
       "<Figure size 432x288 with 1 Axes>"
      ]
     },
     "metadata": {
      "needs_background": "light"
     },
     "output_type": "display_data"
    },
    {
     "data": {
      "image/png": "[encoded data removed]",
      "text/plain": [
       "<Figure size 432x288 with 1 Axes>"
      ]
     },
     "metadata": {
      "needs_background": "light"
     },
     "output_type": "display_data"
    }
   ],
   "source": [
    "display(widgets.analysisButton)\n",
    "def runAnalysis(event):\n",
    "    widgets.clearOutput()\n",
    "    if widgets.fileName:\n",
    "        modeller.runAnalysis(n=widgets.nText.value,\n",
    "                             p0=widgets.p0Text.value,\n",
    "                             d = widgets.dText.value,\n",
    "                             p = widgets.pText.value,\n",
    "                             mV=widgets.mVector,\n",
    "                             wV=widgets.weightVector,\n",
    "                             opt=widgets.optimizerSelector.value,\n",
    "                             fileName = widgets.fileName)\n",
    "\n",
    "widgets.analysisButton.on_click(runAnalysis)"
   ]
  },
  {
   "cell_type": "markdown",
   "metadata": {},
   "source": [
    "### Save Model\n",
    "Save results of modelig routine"
   ]
  },
  {
   "cell_type": "code",
   "execution_count": 170,
   "metadata": {},
   "outputs": [
    {
     "name": "stdout",
     "output_type": "stream",
     "text": [
      "\n",
      "Modeling statistics written to 2019-02-25-ssp_at_2019-02-25_08-42-26_histogram_fraction-estimation_mle_model.txt\n",
      "\n",
      "LS-based modeling results written to 2019-02-25-ssp_at_2019-02-25_08-42-26_histogram_fraction-estimation_mle_fit.txt\n"
     ]
    }
   ],
   "source": [
    "display(widgets.saveButton)\n",
    "def saveAnalysis(event):\n",
    "    widgets.clearOutput()\n",
    "    if widgets.fileName:\n",
    "        modeller.saveResults()\n",
    "\n",
    "widgets.saveButton.on_click(saveAnalysis)"
   ]
  },
  {
   "cell_type": "markdown",
   "metadata": {},
   "source": [
    "### Quote\n",
    "\"Blinking is, what we call, the reappearance of fluorscence.\", Franziska Fricke"
   ]
  }
 ],
 "metadata": {
  "kernelspec": {
   "display_name": "Python 3",
   "language": "python",
   "name": "python3"
  },
  "language_info": {
   "codemirror_mode": {
    "name": "ipython",
    "version": 3
   },
   "file_extension": ".py",
   "mimetype": "text/x-python",
   "name": "python",
   "nbconvert_exporter": "python",
   "pygments_lexer": "ipython3",
   "version": "3.6.7"
  }
 },
 "nbformat": 4,
 "nbformat_minor": 2
}
