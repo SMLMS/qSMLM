{
 "cells": [
  {
   "cell_type": "markdown",
   "metadata": {
    "hideCode": true,
    "hidePrompt": true
   },
   "source": [
    "# qSMLM\n",
    "a tool for modeling single molecule localization microscopy blinking kinetics\n",
    "\n",
    "## fraction-Estimator\n",
    "estimate the composition of oligomeric states from single molecule blinking statistics\n",
    "\n",
    "by\n",
    "\n",
    "Sebastian Malkusch\n",
    "\n",
    "2018-06-29\n",
    "\n",
    "single molecule biophysics,\n",
    "Goethe-University Frankfurt, Germany\n",
    "\n",
    "malkusch@chemie.uni-frankfurt.de\n",
    "\n",
    "www.smb.uni-frankfurt.de\n",
    "\n",
    "http://share.smb.uni-frankfurt.de"
   ]
  },
  {
   "cell_type": "markdown",
   "metadata": {
    "hideCode": true,
    "hidePrompt": true
   },
   "source": [
    "### Create Modeling System"
   ]
  },
  {
   "cell_type": "code",
   "execution_count": 1,
   "metadata": {
    "hideCode": true,
    "hidePrompt": true
   },
   "outputs": [
    {
     "name": "stdout",
     "output_type": "stream",
     "text": [
      "qsmlmWidgets initialized\n",
      "qsmlmPEstimator initialized\n",
      "qsmlmModel initialized\n",
      "qsmlmData initialized\n"
     ]
    }
   ],
   "source": [
    "from qSMLM.jupyter import qsmlmFractionEstimatorWidgets\n",
    "from qSMLM.modelAnalysis import qsmlmFractionEstimator\n",
    "widgets = qsmlmFractionEstimatorWidgets.QsmlmFractionEstimatorWidgets()\n",
    "modeller = qsmlmFractionEstimator.QsmlmFractionEstimator()"
   ]
  },
  {
   "cell_type": "markdown",
   "metadata": {
    "hideCode": true,
    "hidePrompt": true
   },
   "source": [
    "### Define qSMLM Blinking Statistic Data Set\n",
    "Set the path to your data location. Define the columns to be loaded. n := blinking events p0 := number of positive events. The data must comprise monomeric oligomers only. The histogram needs to exist of absolute event numbers (integer). Normalization is done by qSMLM."
   ]
  },
  {
   "cell_type": "code",
   "execution_count": 2,
   "metadata": {
    "hideCode": true,
    "hidePrompt": true
   },
   "outputs": [
    {
     "data": {
      "application/vnd.jupyter.widget-view+json": {
       "model_id": "a19806947b6548ee9d1ca0487f4df733",
       "version_major": 2,
       "version_minor": 0
      },
      "text/plain": [
       "Text(value='', description='path to file', placeholder='enter a string', style=DescriptionStyle(description_wi…"
      ]
     },
     "metadata": {},
     "output_type": "display_data"
    },
    {
     "data": {
      "application/vnd.jupyter.widget-view+json": {
       "model_id": "587514b1aee3404ebec61f5cf60e2da3",
       "version_major": 2,
       "version_minor": 0
      },
      "text/plain": [
       "Button(description='browse', icon='check', style=ButtonStyle(), tooltip='Click me')"
      ]
     },
     "metadata": {},
     "output_type": "display_data"
    },
    {
     "data": {
      "application/vnd.jupyter.widget-view+json": {
       "model_id": "79c7e42162ac49f8b99467ed1fdcd270",
       "version_major": 2,
       "version_minor": 0
      },
      "text/plain": [
       "BoundedIntText(value=0, description='n', style=DescriptionStyle(description_width='initial'))"
      ]
     },
     "metadata": {},
     "output_type": "display_data"
    },
    {
     "data": {
      "application/vnd.jupyter.widget-view+json": {
       "model_id": "fc7dc0b78c2c42cf8988217cb6c1f98a",
       "version_major": 2,
       "version_minor": 0
      },
      "text/plain": [
       "BoundedIntText(value=1, description='p0', style=DescriptionStyle(description_width='initial'))"
      ]
     },
     "metadata": {},
     "output_type": "display_data"
    }
   ],
   "source": [
    "display(widgets.pathText, widgets.pathButton, widgets.nText, widgets.p0Text)"
   ]
  },
  {
   "cell_type": "markdown",
   "metadata": {
    "hideCode": true,
    "hidePrompt": true
   },
   "source": [
    "### Set Initial Parameters\n",
    "Set parameter values for the blinking model.\n",
    "The detection efficiency (d) needs to be determined within a former analysis using \"qSMLM-d-Estimator\"\n",
    "The blinking rate (p) needs to be determined within a former analysis using \"qSMLM-p-Estimator\"\n",
    "Giva a vector of populated states (m).\n",
    "Give an initial guess for the state populations (initWeigth)."
   ]
  },
  {
   "cell_type": "code",
   "execution_count": 3,
   "metadata": {
    "hideCode": true,
    "hidePrompt": true,
    "scrolled": true
   },
   "outputs": [
    {
     "data": {
      "application/vnd.jupyter.widget-view+json": {
       "model_id": "c8f10cbd519a442dbe300286b03116c7",
       "version_major": 2,
       "version_minor": 0
      },
      "text/plain": [
       "BoundedFloatText(value=0.3, description='d', max=1.0, step=0.001, style=DescriptionStyle(description_width='in…"
      ]
     },
     "metadata": {},
     "output_type": "display_data"
    },
    {
     "data": {
      "application/vnd.jupyter.widget-view+json": {
       "model_id": "15ce7e4bad3540a0a96c02ad30c1eecf",
       "version_major": 2,
       "version_minor": 0
      },
      "text/plain": [
       "BoundedFloatText(value=0.3, description='p', max=1.0, step=0.001, style=DescriptionStyle(description_width='in…"
      ]
     },
     "metadata": {},
     "output_type": "display_data"
    },
    {
     "data": {
      "application/vnd.jupyter.widget-view+json": {
       "model_id": "2865d7c7de654c288d7326e044be2a95",
       "version_major": 2,
       "version_minor": 0
      },
      "text/plain": [
       "Text(value='', description='m vector', placeholder='0, 1, 2', style=DescriptionStyle(description_width='initia…"
      ]
     },
     "metadata": {},
     "output_type": "display_data"
    },
    {
     "data": {
      "application/vnd.jupyter.widget-view+json": {
       "model_id": "2eaee2f81dba427bab3f305a9f514c98",
       "version_major": 2,
       "version_minor": 0
      },
      "text/plain": [
       "Valid(value=False, description='m vector validity:', style=DescriptionStyle(description_width='initial'))"
      ]
     },
     "metadata": {},
     "output_type": "display_data"
    },
    {
     "data": {
      "application/vnd.jupyter.widget-view+json": {
       "model_id": "a130fdfa488e45c9af8cb5a34af17b83",
       "version_major": 2,
       "version_minor": 0
      },
      "text/plain": [
       "Text(value='', description='weight vector', placeholder='0.3, 0.3, 0.3', style=DescriptionStyle(description_wi…"
      ]
     },
     "metadata": {},
     "output_type": "display_data"
    },
    {
     "data": {
      "application/vnd.jupyter.widget-view+json": {
       "model_id": "c8a7503c99f84d30b24c3b17058e3d9c",
       "version_major": 2,
       "version_minor": 0
      },
      "text/plain": [
       "Valid(value=False, description='weight vector validity:', style=DescriptionStyle(description_width='initial'))"
      ]
     },
     "metadata": {},
     "output_type": "display_data"
    }
   ],
   "source": [
    "display(widgets.dText, widgets.pText, widgets.mVectorText, widgets.mVectorValidity, widgets.weightVectorText, widgets.weightVectorValidity)"
   ]
  },
  {
   "cell_type": "markdown",
   "metadata": {
    "hideCode": true,
    "hidePrompt": true
   },
   "source": [
    "### Select Parameter Estimator\n",
    "Choose between a least squares or maximum likelihood based routine."
   ]
  },
  {
   "cell_type": "code",
   "execution_count": 4,
   "metadata": {
    "hideCode": true,
    "hidePrompt": true
   },
   "outputs": [
    {
     "data": {
      "application/vnd.jupyter.widget-view+json": {
       "model_id": "94bfdb73f11346fa8fdacd45bc131b3b",
       "version_major": 2,
       "version_minor": 0
      },
      "text/plain": [
       "Select(description='optimizer', options=('least squares', 'maximum likelihood'), rows=1, value='least squares'…"
      ]
     },
     "metadata": {},
     "output_type": "display_data"
    }
   ],
   "source": [
    "display(widgets.optimizerSelector)"
   ]
  },
  {
   "cell_type": "markdown",
   "metadata": {
    "hideCode": true,
    "hidePrompt": true
   },
   "source": [
    "### Data Modeling\n"
   ]
  },
  {
   "cell_type": "code",
   "execution_count": 5,
   "metadata": {
    "hideCode": true,
    "hidePrompt": true
   },
   "outputs": [
    {
     "data": {
      "application/vnd.jupyter.widget-view+json": {
       "model_id": "96e84327259645e392f995787c18a309",
       "version_major": 2,
       "version_minor": 0
      },
      "text/plain": [
       "Button(description='run Analysis', icon='check', style=ButtonStyle(), tooltip='Click me')"
      ]
     },
     "metadata": {},
     "output_type": "display_data"
    }
   ],
   "source": [
    "display(widgets.analysisButton)\n",
    "def runAnalysis(event):\n",
    "    widgets.clearOutput()\n",
    "    if widgets.fileName:\n",
    "        modeller.runAnalysis(n=widgets.nText.value,\n",
    "                             p0=widgets.p0Text.value,\n",
    "                             d = widgets.dText.value,\n",
    "                             p = widgets.pText.value,\n",
    "                             mV=widgets.mVector,\n",
    "                             wV=widgets.weightVector,\n",
    "                             opt=widgets.optimizerSelector.value,\n",
    "                             fileName = widgets.fileName)\n",
    "\n",
    "widgets.analysisButton.on_click(runAnalysis)"
   ]
  },
  {
   "cell_type": "markdown",
   "metadata": {
    "hideCode": true,
    "hidePrompt": true
   },
   "source": [
    "### Save Model\n",
    "Save results of modelig routine"
   ]
  },
  {
   "cell_type": "code",
   "execution_count": 6,
   "metadata": {
    "hideCode": true,
    "hidePrompt": true
   },
   "outputs": [
    {
     "data": {
      "application/vnd.jupyter.widget-view+json": {
       "model_id": "c1e68ceff7af44da93a8c17525555447",
       "version_major": 2,
       "version_minor": 0
      },
      "text/plain": [
       "Button(description='save results', icon='check', style=ButtonStyle(), tooltip='Click me')"
      ]
     },
     "metadata": {},
     "output_type": "display_data"
    }
   ],
   "source": [
    "display(widgets.saveButton)\n",
    "def saveAnalysis(event):\n",
    "    widgets.clearOutput()\n",
    "    if widgets.fileName:\n",
    "        modeller.saveResults()\n",
    "\n",
    "widgets.saveButton.on_click(saveAnalysis)"
   ]
  },
  {
   "cell_type": "markdown",
   "metadata": {
    "hideCode": true,
    "hidePrompt": true
   },
   "source": [
    "### Quote\n",
    "\"According to our definition, blinkling is the reappearance of fluorescence.\", Franziska Fricke"
   ]
  }
 ],
 "metadata": {
  "kernelspec": {
   "display_name": "Python 3",
   "language": "python",
   "name": "python3"
  },
  "language_info": {
   "codemirror_mode": {
    "name": "ipython",
    "version": 3
   },
   "file_extension": ".py",
   "mimetype": "text/x-python",
   "name": "python",
   "nbconvert_exporter": "python",
   "pygments_lexer": "ipython3",
   "version": "3.6.7"
  }
 },
 "nbformat": 4,
 "nbformat_minor": 2
}
