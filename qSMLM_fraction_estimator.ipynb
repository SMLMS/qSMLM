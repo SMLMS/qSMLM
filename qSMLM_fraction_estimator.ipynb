{
 "cells": [
  {
   "cell_type": "markdown",
   "metadata": {},
   "source": [
    "# qSMLM\n",
    "a tool for modeling single molecule localization microscopy blinking kinetics\n",
    "\n",
    "## fraction-Estimator\n",
    "estimate the composition of oligomeric states from single molecule blinking statistics\n",
    "\n",
    "by\n",
    "\n",
    "Sebastian Malkusch\n",
    "\n",
    "2018-06-29\n",
    "\n",
    "single molecule biophysics,\n",
    "Goethe-University Frankfurt, Germany\n",
    "\n",
    "malkusch@chemie.uni-frankfurt.de\n",
    "\n",
    "www.smb.uni-frankfurt.de\n",
    "\n",
    "http://share.smb.uni-frankfurt.de"
   ]
  },
  {
   "cell_type": "markdown",
   "metadata": {},
   "source": [
    "### Create Modelling System"
   ]
  },
  {
   "cell_type": "code",
   "execution_count": 1,
   "metadata": {},
   "outputs": [
    {
     "ename": "ModuleNotFoundError",
     "evalue": "No module named 'qsmlm'",
     "output_type": "error",
     "traceback": [
      "\u001b[0;31m---------------------------------------------------------------------------\u001b[0m",
      "\u001b[0;31mModuleNotFoundError\u001b[0m                       Traceback (most recent call last)",
      "\u001b[0;32m<ipython-input-1-3ab3f8eccef0>\u001b[0m in \u001b[0;36m<module>\u001b[0;34m()\u001b[0m\n\u001b[0;32m----> 1\u001b[0;31m \u001b[0;32mfrom\u001b[0m \u001b[0mqsmlm\u001b[0m \u001b[0;32mimport\u001b[0m \u001b[0mqsmlmFractionEstimator\u001b[0m\u001b[0;34m\u001b[0m\u001b[0m\n\u001b[0m\u001b[1;32m      2\u001b[0m \u001b[0mmodeller\u001b[0m \u001b[0;34m=\u001b[0m \u001b[0mqsmlmFractionEstimator\u001b[0m\u001b[0;34m.\u001b[0m\u001b[0mQsmlmFractionEstimator\u001b[0m\u001b[0;34m(\u001b[0m\u001b[0;34m)\u001b[0m\u001b[0;34m\u001b[0m\u001b[0m\n",
      "\u001b[0;31mModuleNotFoundError\u001b[0m: No module named 'qsmlm'"
     ]
    }
   ],
   "source": [
    "from qSMLM import qsmlmFractionEstimator\n",
    "modeller = qsmlmFractionEstimator.QsmlmFractionEstimator()"
   ]
  },
  {
   "cell_type": "markdown",
   "metadata": {},
   "source": [
    "### Set Parameters\n",
    "Set parameter values for the blinking model.\n",
    "The detection efficiency (d) needs to be determined within a former analysis using \"qSMLM-d-Estimator\"\n",
    "The blinking rate (p) needs to be determined within a former analysis using \"qSMLM-p-Estimator\"\n",
    "Giva a vector of populated states (states).\n",
    "Give an initial guess for the state populations (initWeigth)."
   ]
  },
  {
   "cell_type": "code",
   "execution_count": 2,
   "metadata": {
    "scrolled": true
   },
   "outputs": [
    {
     "name": "stdout",
     "output_type": "stream",
     "text": [
      "\n",
      "\n",
      "number of measurements: 0\n",
      "\n",
      "\n",
      "number of states: 3\n",
      "\n",
      "\n",
      "state vector:\n",
      "[0, 1, 2]\n",
      "\n",
      "\n",
      "apparent weight vector:\n",
      "[0.2955977222421915, 0.3476229213568172, 0.35677935640099134]\n",
      "\n",
      "\n",
      "corrected weight vector:\n",
      "[0.33333333 0.33333333 0.33333333]\n",
      "\n",
      "\n",
      "d: 0.824\n",
      "\n",
      "\n",
      "p: 0.2\n",
      "\n",
      "\n"
     ]
    }
   ],
   "source": [
    "d = 0.824\n",
    "p = 0.2\n",
    "states = [0,1,2]\n",
    "initWeight = [0.33, 0.33, 0.33]\n",
    "\n",
    "modeller.initQsmlmModel(d, p, states, initWeight)"
   ]
  },
  {
   "cell_type": "markdown",
   "metadata": {},
   "source": [
    "### Load qSMLM Blinking Statistic Data Set\n",
    "Define the columns to be loaded.\n",
    "n  := blinking events\n",
    "p0 := number of positive events\n",
    "The histogram needs to exist of absolute event numbers (integer)"
   ]
  },
  {
   "cell_type": "code",
   "execution_count": 3,
   "metadata": {},
   "outputs": [
    {
     "name": "stdout",
     "output_type": "stream",
     "text": [
      "loaded data from: E:/qSMLM/ssp-simulationen/single_oligo_states/trimer/histogram.txt\n"
     ]
    }
   ],
   "source": [
    "n=0\n",
    "p0=1\n",
    "modeller.loadData(n,p0)"
   ]
  },
  {
   "cell_type": "markdown",
   "metadata": {},
   "source": [
    "### Data Modeling\n",
    "Model parameter estimation using a Trust Region Reflective algorithm  based least squares routine"
   ]
  },
  {
   "cell_type": "code",
   "execution_count": 4,
   "metadata": {},
   "outputs": [
    {
     "name": "stdout",
     "output_type": "stream",
     "text": [
      "\n",
      "\n",
      "number of states: 3\n",
      "\n",
      "\n",
      "state vector:\n",
      "[0, 1, 2]\n",
      "\n",
      "\n",
      "normalized weight vector:\n",
      "[0.         0.05582728 0.94417272]\n",
      "\n",
      "\n",
      "d: 0.824\n",
      "\n",
      "\n",
      "p: 0.2\n",
      "\n",
      "\n"
     ]
    }
   ],
   "source": [
    "modeller.mleOptimization()"
   ]
  },
  {
   "cell_type": "markdown",
   "metadata": {},
   "source": [
    "### Evaluate Model\n",
    "Calculate information about how well the model fits the data"
   ]
  },
  {
   "cell_type": "code",
   "execution_count": 5,
   "metadata": {},
   "outputs": [
    {
     "name": "stdout",
     "output_type": "stream",
     "text": [
      "number of observations:\t994\n",
      "number of estimated parameters:\t3\n",
      "LogL:\t225.82180008\n",
      "BIC:\t-430.93838854\n",
      "AIC:\t-445.64360016\n",
      "AICc:\t-445.61935774\n"
     ]
    }
   ],
   "source": [
    "modeller.printModelStatistics()"
   ]
  },
  {
   "cell_type": "markdown",
   "metadata": {},
   "source": [
    "### Plot Modeling Results\n",
    "Plot the LS-based model"
   ]
  },
  {
   "cell_type": "code",
   "execution_count": 6,
   "metadata": {},
   "outputs": [
    {
     "data": {
      "image/png": "[encoded data removed]",
      "text/plain": [
       "<Figure size 432x288 with 1 Axes>"
      ]
     },
     "metadata": {
      "needs_background": "light"
     },
     "output_type": "display_data"
    },
    {
     "data": {
      "image/png": "[encoded data removed]",
      "text/plain": [
       "<Figure size 432x288 with 1 Axes>"
      ]
     },
     "metadata": {
      "needs_background": "light"
     },
     "output_type": "display_data"
    }
   ],
   "source": [
    "modeller.plotResults()"
   ]
  },
  {
   "cell_type": "markdown",
   "metadata": {},
   "source": [
    "### Save Model\n",
    "Save results of modelig routine"
   ]
  },
  {
   "cell_type": "code",
   "execution_count": 7,
   "metadata": {},
   "outputs": [
    {
     "name": "stdout",
     "output_type": "stream",
     "text": [
      "\n",
      "Modeling statistics written to 2018-11-01-histogram_fraction-estimation_mle-fit-statistics.txt\n",
      "\n",
      "LS-based modeling results written to 2018-11-01-histogram_fraction-estimation_mle_fit-result.txt\n"
     ]
    }
   ],
   "source": [
    "modeller.saveResults()"
   ]
  },
  {
   "cell_type": "markdown",
   "metadata": {},
   "source": [
    "### Quote\n",
    "\"Blinking is, what we call, the reappearance of fluorscence.\", Franziska Fricke"
   ]
  }
 ],
 "metadata": {
  "kernelspec": {
   "display_name": "Python 3",
   "language": "python",
   "name": "python3"
  },
  "language_info": {
   "codemirror_mode": {
    "name": "ipython",
    "version": 3
   },
   "file_extension": ".py",
   "mimetype": "text/x-python",
   "name": "python",
   "nbconvert_exporter": "python",
   "pygments_lexer": "ipython3",
   "version": "3.6.6"
  }
 },
 "nbformat": 4,
 "nbformat_minor": 2
}
